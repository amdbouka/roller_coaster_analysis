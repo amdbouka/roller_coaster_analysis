{
 "cells": [
  {
   "cell_type": "code",
   "execution_count": 17,
   "id": "e573f9e4",
   "metadata": {},
   "outputs": [],
   "source": [
    "import pandas as pd\n",
    "import numpy as np\n",
    "import matplotlib.pylab as plt\n",
    "import seaborn as sns"
   ]
  },
  {
   "cell_type": "code",
   "execution_count": 145,
   "id": "a375912d",
   "metadata": {},
   "outputs": [],
   "source": [
    "df = pd.read_csv(\"coaster_db.csv\")"
   ]
  },
  {
   "cell_type": "code",
   "execution_count": 19,
   "id": "76823f5d",
   "metadata": {},
   "outputs": [
    {
     "data": {
      "text/html": [
       "<div>\n",
       "<style scoped>\n",
       "    .dataframe tbody tr th:only-of-type {\n",
       "        vertical-align: middle;\n",
       "    }\n",
       "\n",
       "    .dataframe tbody tr th {\n",
       "        vertical-align: top;\n",
       "    }\n",
       "\n",
       "    .dataframe thead th {\n",
       "        text-align: right;\n",
       "    }\n",
       "</style>\n",
       "<table border=\"1\" class=\"dataframe\">\n",
       "  <thead>\n",
       "    <tr style=\"text-align: right;\">\n",
       "      <th></th>\n",
       "      <th>coaster_name</th>\n",
       "      <th>Length</th>\n",
       "      <th>Speed</th>\n",
       "      <th>Location</th>\n",
       "      <th>Status</th>\n",
       "      <th>Opening date</th>\n",
       "      <th>Type</th>\n",
       "      <th>Manufacturer</th>\n",
       "      <th>Height restriction</th>\n",
       "      <th>Model</th>\n",
       "      <th>...</th>\n",
       "      <th>speed1</th>\n",
       "      <th>speed2</th>\n",
       "      <th>speed1_value</th>\n",
       "      <th>speed1_unit</th>\n",
       "      <th>speed_mph</th>\n",
       "      <th>height_value</th>\n",
       "      <th>height_unit</th>\n",
       "      <th>height_ft</th>\n",
       "      <th>Inversions_clean</th>\n",
       "      <th>Gforce_clean</th>\n",
       "    </tr>\n",
       "  </thead>\n",
       "  <tbody>\n",
       "    <tr>\n",
       "      <th>0</th>\n",
       "      <td>Switchback Railway</td>\n",
       "      <td>600 ft (180 m)</td>\n",
       "      <td>6 mph (9.7 km/h)</td>\n",
       "      <td>Coney Island</td>\n",
       "      <td>Removed</td>\n",
       "      <td>June 16, 1884</td>\n",
       "      <td>Wood</td>\n",
       "      <td>LaMarcus Adna Thompson</td>\n",
       "      <td>NaN</td>\n",
       "      <td>Lift Packed</td>\n",
       "      <td>...</td>\n",
       "      <td>6 mph</td>\n",
       "      <td>9.7 km/h</td>\n",
       "      <td>6.0</td>\n",
       "      <td>mph</td>\n",
       "      <td>6.0</td>\n",
       "      <td>50.0</td>\n",
       "      <td>ft</td>\n",
       "      <td>NaN</td>\n",
       "      <td>0</td>\n",
       "      <td>2.9</td>\n",
       "    </tr>\n",
       "    <tr>\n",
       "      <th>1</th>\n",
       "      <td>Flip Flap Railway</td>\n",
       "      <td>NaN</td>\n",
       "      <td>NaN</td>\n",
       "      <td>Sea Lion Park</td>\n",
       "      <td>Removed</td>\n",
       "      <td>1895</td>\n",
       "      <td>Wood</td>\n",
       "      <td>Lina Beecher</td>\n",
       "      <td>NaN</td>\n",
       "      <td>NaN</td>\n",
       "      <td>...</td>\n",
       "      <td>NaN</td>\n",
       "      <td>NaN</td>\n",
       "      <td>NaN</td>\n",
       "      <td>NaN</td>\n",
       "      <td>NaN</td>\n",
       "      <td>NaN</td>\n",
       "      <td>NaN</td>\n",
       "      <td>NaN</td>\n",
       "      <td>1</td>\n",
       "      <td>12.0</td>\n",
       "    </tr>\n",
       "    <tr>\n",
       "      <th>2</th>\n",
       "      <td>Switchback Railway (Euclid Beach Park)</td>\n",
       "      <td>NaN</td>\n",
       "      <td>NaN</td>\n",
       "      <td>Cleveland, Ohio, United States</td>\n",
       "      <td>Closed</td>\n",
       "      <td>NaN</td>\n",
       "      <td>Other</td>\n",
       "      <td>NaN</td>\n",
       "      <td>NaN</td>\n",
       "      <td>NaN</td>\n",
       "      <td>...</td>\n",
       "      <td>NaN</td>\n",
       "      <td>NaN</td>\n",
       "      <td>NaN</td>\n",
       "      <td>NaN</td>\n",
       "      <td>NaN</td>\n",
       "      <td>NaN</td>\n",
       "      <td>NaN</td>\n",
       "      <td>NaN</td>\n",
       "      <td>0</td>\n",
       "      <td>NaN</td>\n",
       "    </tr>\n",
       "    <tr>\n",
       "      <th>3</th>\n",
       "      <td>Loop the Loop (Coney Island)</td>\n",
       "      <td>NaN</td>\n",
       "      <td>NaN</td>\n",
       "      <td>Other</td>\n",
       "      <td>Removed</td>\n",
       "      <td>1901</td>\n",
       "      <td>Steel</td>\n",
       "      <td>Edwin Prescott</td>\n",
       "      <td>NaN</td>\n",
       "      <td>NaN</td>\n",
       "      <td>...</td>\n",
       "      <td>NaN</td>\n",
       "      <td>NaN</td>\n",
       "      <td>NaN</td>\n",
       "      <td>NaN</td>\n",
       "      <td>NaN</td>\n",
       "      <td>NaN</td>\n",
       "      <td>NaN</td>\n",
       "      <td>NaN</td>\n",
       "      <td>1</td>\n",
       "      <td>NaN</td>\n",
       "    </tr>\n",
       "    <tr>\n",
       "      <th>4</th>\n",
       "      <td>Loop the Loop (Young's Pier)</td>\n",
       "      <td>NaN</td>\n",
       "      <td>NaN</td>\n",
       "      <td>Other</td>\n",
       "      <td>Removed</td>\n",
       "      <td>1901</td>\n",
       "      <td>Steel</td>\n",
       "      <td>Edwin Prescott</td>\n",
       "      <td>NaN</td>\n",
       "      <td>NaN</td>\n",
       "      <td>...</td>\n",
       "      <td>NaN</td>\n",
       "      <td>NaN</td>\n",
       "      <td>NaN</td>\n",
       "      <td>NaN</td>\n",
       "      <td>NaN</td>\n",
       "      <td>NaN</td>\n",
       "      <td>NaN</td>\n",
       "      <td>NaN</td>\n",
       "      <td>1</td>\n",
       "      <td>NaN</td>\n",
       "    </tr>\n",
       "  </tbody>\n",
       "</table>\n",
       "<p>5 rows × 56 columns</p>\n",
       "</div>"
      ],
      "text/plain": [
       "                             coaster_name          Length             Speed  \\\n",
       "0                      Switchback Railway  600 ft (180 m)  6 mph (9.7 km/h)   \n",
       "1                       Flip Flap Railway             NaN               NaN   \n",
       "2  Switchback Railway (Euclid Beach Park)             NaN               NaN   \n",
       "3            Loop the Loop (Coney Island)             NaN               NaN   \n",
       "4            Loop the Loop (Young's Pier)             NaN               NaN   \n",
       "\n",
       "                         Location   Status   Opening date   Type  \\\n",
       "0                    Coney Island  Removed  June 16, 1884   Wood   \n",
       "1                   Sea Lion Park  Removed           1895   Wood   \n",
       "2  Cleveland, Ohio, United States   Closed            NaN  Other   \n",
       "3                           Other  Removed           1901  Steel   \n",
       "4                           Other  Removed           1901  Steel   \n",
       "\n",
       "             Manufacturer Height restriction        Model  ...  speed1  \\\n",
       "0  LaMarcus Adna Thompson                NaN  Lift Packed  ...  6 mph    \n",
       "1            Lina Beecher                NaN          NaN  ...     NaN   \n",
       "2                     NaN                NaN          NaN  ...     NaN   \n",
       "3          Edwin Prescott                NaN          NaN  ...     NaN   \n",
       "4          Edwin Prescott                NaN          NaN  ...     NaN   \n",
       "\n",
       "     speed2 speed1_value speed1_unit speed_mph height_value height_unit  \\\n",
       "0  9.7 km/h          6.0         mph       6.0         50.0          ft   \n",
       "1       NaN          NaN         NaN       NaN          NaN         NaN   \n",
       "2       NaN          NaN         NaN       NaN          NaN         NaN   \n",
       "3       NaN          NaN         NaN       NaN          NaN         NaN   \n",
       "4       NaN          NaN         NaN       NaN          NaN         NaN   \n",
       "\n",
       "  height_ft Inversions_clean Gforce_clean  \n",
       "0       NaN                0          2.9  \n",
       "1       NaN                1         12.0  \n",
       "2       NaN                0          NaN  \n",
       "3       NaN                1          NaN  \n",
       "4       NaN                1          NaN  \n",
       "\n",
       "[5 rows x 56 columns]"
      ]
     },
     "execution_count": 19,
     "metadata": {},
     "output_type": "execute_result"
    }
   ],
   "source": [
    "df.head()"
   ]
  },
  {
   "cell_type": "code",
   "execution_count": 20,
   "id": "14447b23",
   "metadata": {},
   "outputs": [
    {
     "data": {
      "text/plain": [
       "(1087, 56)"
      ]
     },
     "execution_count": 20,
     "metadata": {},
     "output_type": "execute_result"
    }
   ],
   "source": [
    "df.shape"
   ]
  },
  {
   "cell_type": "code",
   "execution_count": 27,
   "id": "395b37b2",
   "metadata": {},
   "outputs": [
    {
     "data": {
      "text/plain": [
       "Index(['coaster_name', 'Length', 'Speed', 'Location', 'Status', 'Opening date',\n",
       "       'Type', 'Manufacturer', 'Height restriction', 'Model', 'Height',\n",
       "       'Inversions', 'Lift/launch system', 'Cost', 'Trains', 'Park section',\n",
       "       'Duration', 'Capacity', 'G-force', 'Designer', 'Max vertical angle',\n",
       "       'Drop', 'Soft opening date', 'Fast Lane available', 'Replaced',\n",
       "       'Track layout', 'Fastrack available', 'Soft opening date.1',\n",
       "       'Closing date', 'Opened', 'Replaced by', 'Website',\n",
       "       'Flash Pass Available', 'Must transfer from wheelchair', 'Theme',\n",
       "       'Single rider line available', 'Restraint Style',\n",
       "       'Flash Pass available', 'Acceleration', 'Restraints', 'Name',\n",
       "       'year_introduced', 'latitude', 'longitude', 'Type_Main',\n",
       "       'opening_date_clean', 'speed1', 'speed2', 'speed1_value', 'speed1_unit',\n",
       "       'speed_mph', 'height_value', 'height_unit', 'height_ft',\n",
       "       'Inversions_clean', 'Gforce_clean'],\n",
       "      dtype='object')"
      ]
     },
     "execution_count": 27,
     "metadata": {},
     "output_type": "execute_result"
    }
   ],
   "source": [
    "df.columns"
   ]
  },
  {
   "cell_type": "code",
   "execution_count": 32,
   "id": "92a1b371",
   "metadata": {},
   "outputs": [],
   "source": [
    "# subsetting the data set\n",
    "df = df[['coaster_name','Location','Status','Manufacturer','year_introduced', \n",
    "         'latitude','longitude','Type_Main','opening_date_clean','speed_mph',\n",
    "         'height_ft','Inversions_clean', 'Gforce_clean']].copy()"
   ]
  },
  {
   "cell_type": "code",
   "execution_count": 34,
   "id": "db09f681",
   "metadata": {},
   "outputs": [
    {
     "data": {
      "text/plain": [
       "(1087, 13)"
      ]
     },
     "execution_count": 34,
     "metadata": {},
     "output_type": "execute_result"
    }
   ],
   "source": [
    "df.shape"
   ]
  },
  {
   "cell_type": "code",
   "execution_count": 37,
   "id": "96a6ae49",
   "metadata": {},
   "outputs": [
    {
     "data": {
      "text/plain": [
       "coaster_name           object\n",
       "Location               object\n",
       "Status                 object\n",
       "Manufacturer           object\n",
       "year_introduced         int64\n",
       "latitude              float64\n",
       "longitude             float64\n",
       "Type_Main              object\n",
       "opening_date_clean     object\n",
       "speed_mph             float64\n",
       "height_ft             float64\n",
       "Inversions_clean        int64\n",
       "Gforce_clean          float64\n",
       "dtype: object"
      ]
     },
     "execution_count": 37,
     "metadata": {},
     "output_type": "execute_result"
    }
   ],
   "source": [
    "df.dtypes"
   ]
  },
  {
   "cell_type": "code",
   "execution_count": 39,
   "id": "6b8889aa",
   "metadata": {},
   "outputs": [],
   "source": [
    "# convert the date column to date type\n",
    "df[\"opening_date_clean\"] = pd.to_datetime(df[\"opening_date_clean\"])"
   ]
  },
  {
   "cell_type": "code",
   "execution_count": 44,
   "id": "8d8d8948",
   "metadata": {},
   "outputs": [],
   "source": [
    "# rename some columns\n",
    "df = df.rename(columns={\"coaster_name\":\"Coaster_Name\",\n",
    "                   \"year_introduced\":\"Year_Introduced\",\n",
    "                   \"opening_date_clean\":\"Opening_Date\",\n",
    "                   \"speed_mph\":\"Speed_mph\",\n",
    "                   \"height_ft\":\"Height_ft\",\n",
    "                   \"Inversions_clean\":\"Inversions\",\n",
    "                   \"Gforce_clean\":\"Gforce\"})"
   ]
  },
  {
   "cell_type": "code",
   "execution_count": 45,
   "id": "f4c2241e",
   "metadata": {},
   "outputs": [
    {
     "data": {
      "text/html": [
       "<div>\n",
       "<style scoped>\n",
       "    .dataframe tbody tr th:only-of-type {\n",
       "        vertical-align: middle;\n",
       "    }\n",
       "\n",
       "    .dataframe tbody tr th {\n",
       "        vertical-align: top;\n",
       "    }\n",
       "\n",
       "    .dataframe thead th {\n",
       "        text-align: right;\n",
       "    }\n",
       "</style>\n",
       "<table border=\"1\" class=\"dataframe\">\n",
       "  <thead>\n",
       "    <tr style=\"text-align: right;\">\n",
       "      <th></th>\n",
       "      <th>Coaster_Name</th>\n",
       "      <th>Location</th>\n",
       "      <th>Status</th>\n",
       "      <th>Manufacturer</th>\n",
       "      <th>Year_Introduced</th>\n",
       "      <th>latitude</th>\n",
       "      <th>longitude</th>\n",
       "      <th>Type_Main</th>\n",
       "      <th>Opening_Date</th>\n",
       "      <th>Speed_mph</th>\n",
       "      <th>Height_ft</th>\n",
       "      <th>Inversions</th>\n",
       "      <th>Gforce</th>\n",
       "    </tr>\n",
       "  </thead>\n",
       "  <tbody>\n",
       "    <tr>\n",
       "      <th>0</th>\n",
       "      <td>Switchback Railway</td>\n",
       "      <td>Coney Island</td>\n",
       "      <td>Removed</td>\n",
       "      <td>LaMarcus Adna Thompson</td>\n",
       "      <td>1884</td>\n",
       "      <td>40.5740</td>\n",
       "      <td>-73.9780</td>\n",
       "      <td>Wood</td>\n",
       "      <td>1884-06-16</td>\n",
       "      <td>6.0</td>\n",
       "      <td>NaN</td>\n",
       "      <td>0</td>\n",
       "      <td>2.9</td>\n",
       "    </tr>\n",
       "    <tr>\n",
       "      <th>1</th>\n",
       "      <td>Flip Flap Railway</td>\n",
       "      <td>Sea Lion Park</td>\n",
       "      <td>Removed</td>\n",
       "      <td>Lina Beecher</td>\n",
       "      <td>1895</td>\n",
       "      <td>40.5780</td>\n",
       "      <td>-73.9790</td>\n",
       "      <td>Wood</td>\n",
       "      <td>1895-01-01</td>\n",
       "      <td>NaN</td>\n",
       "      <td>NaN</td>\n",
       "      <td>1</td>\n",
       "      <td>12.0</td>\n",
       "    </tr>\n",
       "    <tr>\n",
       "      <th>2</th>\n",
       "      <td>Switchback Railway (Euclid Beach Park)</td>\n",
       "      <td>Cleveland, Ohio, United States</td>\n",
       "      <td>Closed</td>\n",
       "      <td>NaN</td>\n",
       "      <td>1896</td>\n",
       "      <td>41.5800</td>\n",
       "      <td>-81.5700</td>\n",
       "      <td>Other</td>\n",
       "      <td>NaT</td>\n",
       "      <td>NaN</td>\n",
       "      <td>NaN</td>\n",
       "      <td>0</td>\n",
       "      <td>NaN</td>\n",
       "    </tr>\n",
       "    <tr>\n",
       "      <th>3</th>\n",
       "      <td>Loop the Loop (Coney Island)</td>\n",
       "      <td>Other</td>\n",
       "      <td>Removed</td>\n",
       "      <td>Edwin Prescott</td>\n",
       "      <td>1901</td>\n",
       "      <td>40.5745</td>\n",
       "      <td>-73.9780</td>\n",
       "      <td>Steel</td>\n",
       "      <td>1901-01-01</td>\n",
       "      <td>NaN</td>\n",
       "      <td>NaN</td>\n",
       "      <td>1</td>\n",
       "      <td>NaN</td>\n",
       "    </tr>\n",
       "    <tr>\n",
       "      <th>4</th>\n",
       "      <td>Loop the Loop (Young's Pier)</td>\n",
       "      <td>Other</td>\n",
       "      <td>Removed</td>\n",
       "      <td>Edwin Prescott</td>\n",
       "      <td>1901</td>\n",
       "      <td>39.3538</td>\n",
       "      <td>-74.4342</td>\n",
       "      <td>Steel</td>\n",
       "      <td>1901-01-01</td>\n",
       "      <td>NaN</td>\n",
       "      <td>NaN</td>\n",
       "      <td>1</td>\n",
       "      <td>NaN</td>\n",
       "    </tr>\n",
       "  </tbody>\n",
       "</table>\n",
       "</div>"
      ],
      "text/plain": [
       "                             Coaster_Name                        Location  \\\n",
       "0                      Switchback Railway                    Coney Island   \n",
       "1                       Flip Flap Railway                   Sea Lion Park   \n",
       "2  Switchback Railway (Euclid Beach Park)  Cleveland, Ohio, United States   \n",
       "3            Loop the Loop (Coney Island)                           Other   \n",
       "4            Loop the Loop (Young's Pier)                           Other   \n",
       "\n",
       "    Status            Manufacturer  Year_Introduced  latitude  longitude  \\\n",
       "0  Removed  LaMarcus Adna Thompson             1884   40.5740   -73.9780   \n",
       "1  Removed            Lina Beecher             1895   40.5780   -73.9790   \n",
       "2   Closed                     NaN             1896   41.5800   -81.5700   \n",
       "3  Removed          Edwin Prescott             1901   40.5745   -73.9780   \n",
       "4  Removed          Edwin Prescott             1901   39.3538   -74.4342   \n",
       "\n",
       "  Type_Main Opening_Date  Speed_mph  Height_ft  Inversions  Gforce  \n",
       "0      Wood   1884-06-16        6.0        NaN           0     2.9  \n",
       "1      Wood   1895-01-01        NaN        NaN           1    12.0  \n",
       "2     Other          NaT        NaN        NaN           0     NaN  \n",
       "3     Steel   1901-01-01        NaN        NaN           1     NaN  \n",
       "4     Steel   1901-01-01        NaN        NaN           1     NaN  "
      ]
     },
     "execution_count": 45,
     "metadata": {},
     "output_type": "execute_result"
    }
   ],
   "source": [
    "df.head()"
   ]
  },
  {
   "cell_type": "code",
   "execution_count": 46,
   "id": "ff0982d2",
   "metadata": {},
   "outputs": [
    {
     "data": {
      "text/plain": [
       "Coaster_Name         0\n",
       "Location             0\n",
       "Status             213\n",
       "Manufacturer        59\n",
       "Year_Introduced      0\n",
       "latitude           275\n",
       "longitude          275\n",
       "Type_Main            0\n",
       "Opening_Date       250\n",
       "Speed_mph          150\n",
       "Height_ft          916\n",
       "Inversions           0\n",
       "Gforce             725\n",
       "dtype: int64"
      ]
     },
     "execution_count": 46,
     "metadata": {},
     "output_type": "execute_result"
    }
   ],
   "source": [
    "# checking for missing values\n",
    "df.isna().sum()"
   ]
  },
  {
   "cell_type": "code",
   "execution_count": 47,
   "id": "45a8fd40",
   "metadata": {},
   "outputs": [
    {
     "data": {
      "text/html": [
       "<div>\n",
       "<style scoped>\n",
       "    .dataframe tbody tr th:only-of-type {\n",
       "        vertical-align: middle;\n",
       "    }\n",
       "\n",
       "    .dataframe tbody tr th {\n",
       "        vertical-align: top;\n",
       "    }\n",
       "\n",
       "    .dataframe thead th {\n",
       "        text-align: right;\n",
       "    }\n",
       "</style>\n",
       "<table border=\"1\" class=\"dataframe\">\n",
       "  <thead>\n",
       "    <tr style=\"text-align: right;\">\n",
       "      <th></th>\n",
       "      <th>Coaster_Name</th>\n",
       "      <th>Location</th>\n",
       "      <th>Status</th>\n",
       "      <th>Manufacturer</th>\n",
       "      <th>Year_Introduced</th>\n",
       "      <th>latitude</th>\n",
       "      <th>longitude</th>\n",
       "      <th>Type_Main</th>\n",
       "      <th>Opening_Date</th>\n",
       "      <th>Speed_mph</th>\n",
       "      <th>Height_ft</th>\n",
       "      <th>Inversions</th>\n",
       "      <th>Gforce</th>\n",
       "    </tr>\n",
       "  </thead>\n",
       "  <tbody>\n",
       "  </tbody>\n",
       "</table>\n",
       "</div>"
      ],
      "text/plain": [
       "Empty DataFrame\n",
       "Columns: [Coaster_Name, Location, Status, Manufacturer, Year_Introduced, latitude, longitude, Type_Main, Opening_Date, Speed_mph, Height_ft, Inversions, Gforce]\n",
       "Index: []"
      ]
     },
     "execution_count": 47,
     "metadata": {},
     "output_type": "execute_result"
    }
   ],
   "source": [
    "# checking for duplicated values\n",
    "df.loc[df.duplicated()]"
   ]
  },
  {
   "cell_type": "code",
   "execution_count": 49,
   "id": "a33d9d10",
   "metadata": {},
   "outputs": [
    {
     "data": {
      "text/html": [
       "<div>\n",
       "<style scoped>\n",
       "    .dataframe tbody tr th:only-of-type {\n",
       "        vertical-align: middle;\n",
       "    }\n",
       "\n",
       "    .dataframe tbody tr th {\n",
       "        vertical-align: top;\n",
       "    }\n",
       "\n",
       "    .dataframe thead th {\n",
       "        text-align: right;\n",
       "    }\n",
       "</style>\n",
       "<table border=\"1\" class=\"dataframe\">\n",
       "  <thead>\n",
       "    <tr style=\"text-align: right;\">\n",
       "      <th></th>\n",
       "      <th>Coaster_Name</th>\n",
       "      <th>Location</th>\n",
       "      <th>Status</th>\n",
       "      <th>Manufacturer</th>\n",
       "      <th>Year_Introduced</th>\n",
       "      <th>latitude</th>\n",
       "      <th>longitude</th>\n",
       "      <th>Type_Main</th>\n",
       "      <th>Opening_Date</th>\n",
       "      <th>Speed_mph</th>\n",
       "      <th>Height_ft</th>\n",
       "      <th>Inversions</th>\n",
       "      <th>Gforce</th>\n",
       "    </tr>\n",
       "  </thead>\n",
       "  <tbody>\n",
       "    <tr>\n",
       "      <th>43</th>\n",
       "      <td>Crystal Beach Cyclone</td>\n",
       "      <td>Crystal Beach Park</td>\n",
       "      <td>Removed</td>\n",
       "      <td>Traver Engineering</td>\n",
       "      <td>1927</td>\n",
       "      <td>42.8617</td>\n",
       "      <td>-79.0598</td>\n",
       "      <td>Wood</td>\n",
       "      <td>1926-01-01</td>\n",
       "      <td>60.0</td>\n",
       "      <td>NaN</td>\n",
       "      <td>0</td>\n",
       "      <td>4.0</td>\n",
       "    </tr>\n",
       "    <tr>\n",
       "      <th>60</th>\n",
       "      <td>Derby Racer</td>\n",
       "      <td>Revere Beach</td>\n",
       "      <td>Removed</td>\n",
       "      <td>Fred W. Pearce</td>\n",
       "      <td>1937</td>\n",
       "      <td>42.4200</td>\n",
       "      <td>-70.9860</td>\n",
       "      <td>Wood</td>\n",
       "      <td>1911-01-01</td>\n",
       "      <td>NaN</td>\n",
       "      <td>NaN</td>\n",
       "      <td>0</td>\n",
       "      <td>NaN</td>\n",
       "    </tr>\n",
       "    <tr>\n",
       "      <th>61</th>\n",
       "      <td>Blue Streak (Conneaut Lake)</td>\n",
       "      <td>Conneaut Lake Park</td>\n",
       "      <td>Closed</td>\n",
       "      <td>NaN</td>\n",
       "      <td>1938</td>\n",
       "      <td>41.6349</td>\n",
       "      <td>-80.3180</td>\n",
       "      <td>Wood</td>\n",
       "      <td>1938-05-23</td>\n",
       "      <td>50.0</td>\n",
       "      <td>NaN</td>\n",
       "      <td>0</td>\n",
       "      <td>NaN</td>\n",
       "    </tr>\n",
       "    <tr>\n",
       "      <th>167</th>\n",
       "      <td>Big Thunder Mountain Railroad</td>\n",
       "      <td>Other</td>\n",
       "      <td>NaN</td>\n",
       "      <td>Arrow Development (California and Florida)Dyna...</td>\n",
       "      <td>1980</td>\n",
       "      <td>NaN</td>\n",
       "      <td>NaN</td>\n",
       "      <td>Steel</td>\n",
       "      <td>NaT</td>\n",
       "      <td>35.0</td>\n",
       "      <td>NaN</td>\n",
       "      <td>0</td>\n",
       "      <td>NaN</td>\n",
       "    </tr>\n",
       "    <tr>\n",
       "      <th>237</th>\n",
       "      <td>Thunder Run (Canada's Wonderland)</td>\n",
       "      <td>Canada's Wonderland</td>\n",
       "      <td>Operating</td>\n",
       "      <td>Mack Rides</td>\n",
       "      <td>1986</td>\n",
       "      <td>43.8427</td>\n",
       "      <td>-79.5423</td>\n",
       "      <td>Steel</td>\n",
       "      <td>1981-05-23</td>\n",
       "      <td>39.8</td>\n",
       "      <td>32.8</td>\n",
       "      <td>0</td>\n",
       "      <td>NaN</td>\n",
       "    </tr>\n",
       "  </tbody>\n",
       "</table>\n",
       "</div>"
      ],
      "text/plain": [
       "                          Coaster_Name             Location     Status  \\\n",
       "43               Crystal Beach Cyclone   Crystal Beach Park    Removed   \n",
       "60                         Derby Racer         Revere Beach    Removed   \n",
       "61         Blue Streak (Conneaut Lake)   Conneaut Lake Park     Closed   \n",
       "167      Big Thunder Mountain Railroad                Other        NaN   \n",
       "237  Thunder Run (Canada's Wonderland)  Canada's Wonderland  Operating   \n",
       "\n",
       "                                          Manufacturer  Year_Introduced  \\\n",
       "43                                  Traver Engineering             1927   \n",
       "60                                      Fred W. Pearce             1937   \n",
       "61                                                 NaN             1938   \n",
       "167  Arrow Development (California and Florida)Dyna...             1980   \n",
       "237                                         Mack Rides             1986   \n",
       "\n",
       "     latitude  longitude Type_Main Opening_Date  Speed_mph  Height_ft  \\\n",
       "43    42.8617   -79.0598      Wood   1926-01-01       60.0        NaN   \n",
       "60    42.4200   -70.9860      Wood   1911-01-01        NaN        NaN   \n",
       "61    41.6349   -80.3180      Wood   1938-05-23       50.0        NaN   \n",
       "167       NaN        NaN     Steel          NaT       35.0        NaN   \n",
       "237   43.8427   -79.5423     Steel   1981-05-23       39.8       32.8   \n",
       "\n",
       "     Inversions  Gforce  \n",
       "43            0     4.0  \n",
       "60            0     NaN  \n",
       "61            0     NaN  \n",
       "167           0     NaN  \n",
       "237           0     NaN  "
      ]
     },
     "execution_count": 49,
     "metadata": {},
     "output_type": "execute_result"
    }
   ],
   "source": [
    "df.loc[df.duplicated(subset=[\"Coaster_Name\"])].head()"
   ]
  },
  {
   "cell_type": "code",
   "execution_count": 53,
   "id": "845b56c1",
   "metadata": {},
   "outputs": [
    {
     "data": {
      "text/html": [
       "<div>\n",
       "<style scoped>\n",
       "    .dataframe tbody tr th:only-of-type {\n",
       "        vertical-align: middle;\n",
       "    }\n",
       "\n",
       "    .dataframe tbody tr th {\n",
       "        vertical-align: top;\n",
       "    }\n",
       "\n",
       "    .dataframe thead th {\n",
       "        text-align: right;\n",
       "    }\n",
       "</style>\n",
       "<table border=\"1\" class=\"dataframe\">\n",
       "  <thead>\n",
       "    <tr style=\"text-align: right;\">\n",
       "      <th></th>\n",
       "      <th>Coaster_Name</th>\n",
       "      <th>Location</th>\n",
       "      <th>Status</th>\n",
       "      <th>Manufacturer</th>\n",
       "      <th>Year_Introduced</th>\n",
       "      <th>latitude</th>\n",
       "      <th>longitude</th>\n",
       "      <th>Type_Main</th>\n",
       "      <th>Opening_Date</th>\n",
       "      <th>Speed_mph</th>\n",
       "      <th>Height_ft</th>\n",
       "      <th>Inversions</th>\n",
       "      <th>Gforce</th>\n",
       "    </tr>\n",
       "  </thead>\n",
       "  <tbody>\n",
       "    <tr>\n",
       "      <th>39</th>\n",
       "      <td>Crystal Beach Cyclone</td>\n",
       "      <td>Crystal Beach Park</td>\n",
       "      <td>Removed</td>\n",
       "      <td>Traver Engineering</td>\n",
       "      <td>1926</td>\n",
       "      <td>42.8617</td>\n",
       "      <td>-79.0598</td>\n",
       "      <td>Wood</td>\n",
       "      <td>1926-01-01</td>\n",
       "      <td>60.0</td>\n",
       "      <td>NaN</td>\n",
       "      <td>0</td>\n",
       "      <td>4.0</td>\n",
       "    </tr>\n",
       "    <tr>\n",
       "      <th>43</th>\n",
       "      <td>Crystal Beach Cyclone</td>\n",
       "      <td>Crystal Beach Park</td>\n",
       "      <td>Removed</td>\n",
       "      <td>Traver Engineering</td>\n",
       "      <td>1927</td>\n",
       "      <td>42.8617</td>\n",
       "      <td>-79.0598</td>\n",
       "      <td>Wood</td>\n",
       "      <td>1926-01-01</td>\n",
       "      <td>60.0</td>\n",
       "      <td>NaN</td>\n",
       "      <td>0</td>\n",
       "      <td>4.0</td>\n",
       "    </tr>\n",
       "  </tbody>\n",
       "</table>\n",
       "</div>"
      ],
      "text/plain": [
       "             Coaster_Name            Location   Status        Manufacturer  \\\n",
       "39  Crystal Beach Cyclone  Crystal Beach Park  Removed  Traver Engineering   \n",
       "43  Crystal Beach Cyclone  Crystal Beach Park  Removed  Traver Engineering   \n",
       "\n",
       "    Year_Introduced  latitude  longitude Type_Main Opening_Date  Speed_mph  \\\n",
       "39             1926   42.8617   -79.0598      Wood   1926-01-01       60.0   \n",
       "43             1927   42.8617   -79.0598      Wood   1926-01-01       60.0   \n",
       "\n",
       "    Height_ft  Inversions  Gforce  \n",
       "39        NaN           0     4.0  \n",
       "43        NaN           0     4.0  "
      ]
     },
     "execution_count": 53,
     "metadata": {},
     "output_type": "execute_result"
    }
   ],
   "source": [
    "df.query('Coaster_Name == \"Crystal Beach Cyclone\"')"
   ]
  },
  {
   "cell_type": "code",
   "execution_count": 54,
   "id": "193e33cf",
   "metadata": {},
   "outputs": [
    {
     "data": {
      "text/plain": [
       "Index(['Coaster_Name', 'Location', 'Status', 'Manufacturer', 'Year_Introduced',\n",
       "       'latitude', 'longitude', 'Type_Main', 'Opening_Date', 'Speed_mph',\n",
       "       'Height_ft', 'Inversions', 'Gforce'],\n",
       "      dtype='object')"
      ]
     },
     "execution_count": 54,
     "metadata": {},
     "output_type": "execute_result"
    }
   ],
   "source": [
    "df.columns"
   ]
  },
  {
   "cell_type": "code",
   "execution_count": 63,
   "id": "c194ca4f",
   "metadata": {},
   "outputs": [],
   "source": [
    "df = df.loc[~df.duplicated(subset=[\"Coaster_Name\",\"Location\",\"Opening_Date\"])]"
   ]
  },
  {
   "cell_type": "code",
   "execution_count": 67,
   "id": "4b01341b",
   "metadata": {},
   "outputs": [
    {
     "data": {
      "text/html": [
       "<div>\n",
       "<style scoped>\n",
       "    .dataframe tbody tr th:only-of-type {\n",
       "        vertical-align: middle;\n",
       "    }\n",
       "\n",
       "    .dataframe tbody tr th {\n",
       "        vertical-align: top;\n",
       "    }\n",
       "\n",
       "    .dataframe thead th {\n",
       "        text-align: right;\n",
       "    }\n",
       "</style>\n",
       "<table border=\"1\" class=\"dataframe\">\n",
       "  <thead>\n",
       "    <tr style=\"text-align: right;\">\n",
       "      <th></th>\n",
       "      <th>Coaster_Name</th>\n",
       "      <th>Location</th>\n",
       "      <th>Status</th>\n",
       "      <th>Manufacturer</th>\n",
       "      <th>Year_Introduced</th>\n",
       "      <th>latitude</th>\n",
       "      <th>longitude</th>\n",
       "      <th>Type_Main</th>\n",
       "      <th>Opening_Date</th>\n",
       "      <th>Speed_mph</th>\n",
       "      <th>Height_ft</th>\n",
       "      <th>Inversions</th>\n",
       "      <th>Gforce</th>\n",
       "    </tr>\n",
       "  </thead>\n",
       "  <tbody>\n",
       "    <tr>\n",
       "      <th>0</th>\n",
       "      <td>Switchback Railway</td>\n",
       "      <td>Coney Island</td>\n",
       "      <td>Removed</td>\n",
       "      <td>LaMarcus Adna Thompson</td>\n",
       "      <td>1884</td>\n",
       "      <td>40.5740</td>\n",
       "      <td>-73.9780</td>\n",
       "      <td>Wood</td>\n",
       "      <td>1884-06-16</td>\n",
       "      <td>6.0</td>\n",
       "      <td>NaN</td>\n",
       "      <td>0</td>\n",
       "      <td>2.9</td>\n",
       "    </tr>\n",
       "    <tr>\n",
       "      <th>1</th>\n",
       "      <td>Flip Flap Railway</td>\n",
       "      <td>Sea Lion Park</td>\n",
       "      <td>Removed</td>\n",
       "      <td>Lina Beecher</td>\n",
       "      <td>1895</td>\n",
       "      <td>40.5780</td>\n",
       "      <td>-73.9790</td>\n",
       "      <td>Wood</td>\n",
       "      <td>1895-01-01</td>\n",
       "      <td>NaN</td>\n",
       "      <td>NaN</td>\n",
       "      <td>1</td>\n",
       "      <td>12.0</td>\n",
       "    </tr>\n",
       "    <tr>\n",
       "      <th>2</th>\n",
       "      <td>Switchback Railway (Euclid Beach Park)</td>\n",
       "      <td>Cleveland, Ohio, United States</td>\n",
       "      <td>Closed</td>\n",
       "      <td>NaN</td>\n",
       "      <td>1896</td>\n",
       "      <td>41.5800</td>\n",
       "      <td>-81.5700</td>\n",
       "      <td>Other</td>\n",
       "      <td>NaT</td>\n",
       "      <td>NaN</td>\n",
       "      <td>NaN</td>\n",
       "      <td>0</td>\n",
       "      <td>NaN</td>\n",
       "    </tr>\n",
       "    <tr>\n",
       "      <th>3</th>\n",
       "      <td>Loop the Loop (Coney Island)</td>\n",
       "      <td>Other</td>\n",
       "      <td>Removed</td>\n",
       "      <td>Edwin Prescott</td>\n",
       "      <td>1901</td>\n",
       "      <td>40.5745</td>\n",
       "      <td>-73.9780</td>\n",
       "      <td>Steel</td>\n",
       "      <td>1901-01-01</td>\n",
       "      <td>NaN</td>\n",
       "      <td>NaN</td>\n",
       "      <td>1</td>\n",
       "      <td>NaN</td>\n",
       "    </tr>\n",
       "    <tr>\n",
       "      <th>4</th>\n",
       "      <td>Loop the Loop (Young's Pier)</td>\n",
       "      <td>Other</td>\n",
       "      <td>Removed</td>\n",
       "      <td>Edwin Prescott</td>\n",
       "      <td>1901</td>\n",
       "      <td>39.3538</td>\n",
       "      <td>-74.4342</td>\n",
       "      <td>Steel</td>\n",
       "      <td>1901-01-01</td>\n",
       "      <td>NaN</td>\n",
       "      <td>NaN</td>\n",
       "      <td>1</td>\n",
       "      <td>NaN</td>\n",
       "    </tr>\n",
       "  </tbody>\n",
       "</table>\n",
       "</div>"
      ],
      "text/plain": [
       "                             Coaster_Name                        Location  \\\n",
       "0                      Switchback Railway                    Coney Island   \n",
       "1                       Flip Flap Railway                   Sea Lion Park   \n",
       "2  Switchback Railway (Euclid Beach Park)  Cleveland, Ohio, United States   \n",
       "3            Loop the Loop (Coney Island)                           Other   \n",
       "4            Loop the Loop (Young's Pier)                           Other   \n",
       "\n",
       "    Status            Manufacturer  Year_Introduced  latitude  longitude  \\\n",
       "0  Removed  LaMarcus Adna Thompson             1884   40.5740   -73.9780   \n",
       "1  Removed            Lina Beecher             1895   40.5780   -73.9790   \n",
       "2   Closed                     NaN             1896   41.5800   -81.5700   \n",
       "3  Removed          Edwin Prescott             1901   40.5745   -73.9780   \n",
       "4  Removed          Edwin Prescott             1901   39.3538   -74.4342   \n",
       "\n",
       "  Type_Main Opening_Date  Speed_mph  Height_ft  Inversions  Gforce  \n",
       "0      Wood   1884-06-16        6.0        NaN           0     2.9  \n",
       "1      Wood   1895-01-01        NaN        NaN           1    12.0  \n",
       "2     Other          NaT        NaN        NaN           0     NaN  \n",
       "3     Steel   1901-01-01        NaN        NaN           1     NaN  \n",
       "4     Steel   1901-01-01        NaN        NaN           1     NaN  "
      ]
     },
     "execution_count": 67,
     "metadata": {},
     "output_type": "execute_result"
    }
   ],
   "source": [
    "df.head()"
   ]
  },
  {
   "cell_type": "code",
   "execution_count": 79,
   "id": "02489e3d",
   "metadata": {},
   "outputs": [
    {
     "data": {
      "text/plain": [
       "(990, 13)"
      ]
     },
     "execution_count": 79,
     "metadata": {},
     "output_type": "execute_result"
    }
   ],
   "source": [
    "df.shape"
   ]
  },
  {
   "cell_type": "code",
   "execution_count": 82,
   "id": "e1dca995",
   "metadata": {},
   "outputs": [
    {
     "data": {
      "text/plain": [
       "Text(0, 0.5, 'Count')"
      ]
     },
     "execution_count": 82,
     "metadata": {},
     "output_type": "execute_result"
    },
    {
     "data": {
      "image/png": "[encoded data removed]",
      "text/plain": [
       "<Figure size 640x480 with 1 Axes>"
      ]
     },
     "metadata": {},
     "output_type": "display_data"
    }
   ],
   "source": [
    "ax = df[\"Year_Introduced\"].value_counts() \\\n",
    ".head(10) \\\n",
    ".plot(kind=\"bar\", title=\"Top 10 Years Costers Introuduced\")\n",
    "\n",
    "ax.set_xlabel(\"Year Introduced\")\n",
    "ax.set_ylabel(\"Count\")"
   ]
  },
  {
   "cell_type": "code",
   "execution_count": 84,
   "id": "bb72e825",
   "metadata": {},
   "outputs": [
    {
     "data": {
      "text/plain": [
       "<Axes: ylabel='Frequency'>"
      ]
     },
     "execution_count": 84,
     "metadata": {},
     "output_type": "execute_result"
    },
    {
     "data": {
      "image/png": "[encoded data removed]",
      "text/plain": [
       "<Figure size 640x480 with 1 Axes>"
      ]
     },
     "metadata": {},
     "output_type": "display_data"
    }
   ],
   "source": [
    "ax = df[\"Speed_mph\"].plot(kind=\"hist\", bins=20, title=\"Coster Speed (mph)\")\n",
    "\n",
    "ax.set_xlabel(\"Speed (mph)\")"
   ]
  },
  {
   "cell_type": "code",
   "execution_count": 90,
   "id": "73b49863",
   "metadata": {},
   "outputs": [
    {
     "data": {
      "image/png": "[encoded data removed]",
      "text/plain": [
       "<Figure size 640x480 with 1 Axes>"
      ]
     },
     "metadata": {},
     "output_type": "display_data"
    }
   ],
   "source": [
    "df.plot(kind=\"scatter\",\n",
    "       x=\"Speed_mph\",\n",
    "       y=\"Height_ft\",\n",
    "       title=\"Coster Speed vs Height\")\n",
    "plt.show()"
   ]
  },
  {
   "cell_type": "code",
   "execution_count": 95,
   "id": "e3e7a65b",
   "metadata": {},
   "outputs": [
    {
     "data": {
      "text/html": [
       "<div>\n",
       "<style scoped>\n",
       "    .dataframe tbody tr th:only-of-type {\n",
       "        vertical-align: middle;\n",
       "    }\n",
       "\n",
       "    .dataframe tbody tr th {\n",
       "        vertical-align: top;\n",
       "    }\n",
       "\n",
       "    .dataframe thead th {\n",
       "        text-align: right;\n",
       "    }\n",
       "</style>\n",
       "<table border=\"1\" class=\"dataframe\">\n",
       "  <thead>\n",
       "    <tr style=\"text-align: right;\">\n",
       "      <th></th>\n",
       "      <th>Year_Introduced</th>\n",
       "      <th>Speed_mph</th>\n",
       "      <th>Height_ft</th>\n",
       "      <th>Inversions</th>\n",
       "      <th>Gforce</th>\n",
       "    </tr>\n",
       "  </thead>\n",
       "  <tbody>\n",
       "    <tr>\n",
       "      <th>Year_Introduced</th>\n",
       "      <td>1.000000</td>\n",
       "      <td>0.171978</td>\n",
       "      <td>0.135413</td>\n",
       "      <td>-0.209887</td>\n",
       "      <td>0.160247</td>\n",
       "    </tr>\n",
       "    <tr>\n",
       "      <th>Speed_mph</th>\n",
       "      <td>0.171978</td>\n",
       "      <td>1.000000</td>\n",
       "      <td>0.733999</td>\n",
       "      <td>-0.028705</td>\n",
       "      <td>0.607383</td>\n",
       "    </tr>\n",
       "    <tr>\n",
       "      <th>Height_ft</th>\n",
       "      <td>0.135413</td>\n",
       "      <td>0.733999</td>\n",
       "      <td>1.000000</td>\n",
       "      <td>-0.079736</td>\n",
       "      <td>0.466482</td>\n",
       "    </tr>\n",
       "    <tr>\n",
       "      <th>Inversions</th>\n",
       "      <td>-0.209887</td>\n",
       "      <td>-0.028705</td>\n",
       "      <td>-0.079736</td>\n",
       "      <td>1.000000</td>\n",
       "      <td>0.275991</td>\n",
       "    </tr>\n",
       "    <tr>\n",
       "      <th>Gforce</th>\n",
       "      <td>0.160247</td>\n",
       "      <td>0.607383</td>\n",
       "      <td>0.466482</td>\n",
       "      <td>0.275991</td>\n",
       "      <td>1.000000</td>\n",
       "    </tr>\n",
       "  </tbody>\n",
       "</table>\n",
       "</div>"
      ],
      "text/plain": [
       "                 Year_Introduced  Speed_mph  Height_ft  Inversions    Gforce\n",
       "Year_Introduced         1.000000   0.171978   0.135413   -0.209887  0.160247\n",
       "Speed_mph               0.171978   1.000000   0.733999   -0.028705  0.607383\n",
       "Height_ft               0.135413   0.733999   1.000000   -0.079736  0.466482\n",
       "Inversions             -0.209887  -0.028705  -0.079736    1.000000  0.275991\n",
       "Gforce                  0.160247   0.607383   0.466482    0.275991  1.000000"
      ]
     },
     "execution_count": 95,
     "metadata": {},
     "output_type": "execute_result"
    }
   ],
   "source": [
    "df_corr = df[[\"Year_Introduced\",\"Speed_mph\",\"Height_ft\",\"Inversions\",\"Gforce\"]].dropna().corr()\n",
    "df_corr"
   ]
  },
  {
   "cell_type": "code",
   "execution_count": 97,
   "id": "60742073",
   "metadata": {},
   "outputs": [
    {
     "data": {
      "text/plain": [
       "<Axes: >"
      ]
     },
     "execution_count": 97,
     "metadata": {},
     "output_type": "execute_result"
    },
    {
     "data": {
      "image/png": "[encoded data removed]",
      "text/plain": [
       "<Figure size 640x480 with 2 Axes>"
      ]
     },
     "metadata": {},
     "output_type": "display_data"
    }
   ],
   "source": [
    "sns.heatmap(df_corr, annot=True)"
   ]
  },
  {
   "cell_type": "markdown",
   "id": "ca2c7cae",
   "metadata": {},
   "source": [
    "## What are the locations with the fastest roller coasters(min of 10)?"
   ]
  },
  {
   "cell_type": "code",
   "execution_count": 103,
   "id": "85ac32d6",
   "metadata": {},
   "outputs": [
    {
     "data": {
      "text/plain": [
       "Other                            181\n",
       "Kings Island                      19\n",
       "Cedar Point                       18\n",
       "Six Flags Magic Mountain          17\n",
       "Hersheypark                       16\n",
       "                                ... \n",
       "Granada Studios Tour               1\n",
       "Funtown Splashtown USA             1\n",
       "Tolchester Beach Park              1\n",
       "Suzuka, Mie Prefecture, Japan      1\n",
       "Epcot                              1\n",
       "Name: Location, Length: 280, dtype: int64"
      ]
     },
     "execution_count": 103,
     "metadata": {},
     "output_type": "execute_result"
    }
   ],
   "source": [
    "df[\"Location\"].value_counts()\n"
   ]
  },
  {
   "cell_type": "code",
   "execution_count": 138,
   "id": "e8fac67c",
   "metadata": {},
   "outputs": [
    {
     "data": {
      "text/plain": [
       "Location\n",
       "Alton Towers                  42.791667\n",
       "Carowinds                     43.571429\n",
       "Kings Island                  49.273684\n",
       "Hersheypark                   50.576923\n",
       "Kings Dominion                52.083333\n",
       "Six Flags Great Adventure     53.036364\n",
       "Canada's Wonderland           53.533333\n",
       "Six Flags Magic Mountain      57.241176\n",
       "Cedar Point                   57.833333\n",
       "Busch Gardens Williamsburg    58.318182\n",
       "Name: mean, dtype: float64"
      ]
     },
     "execution_count": 138,
     "metadata": {},
     "output_type": "execute_result"
    }
   ],
   "source": [
    "ax = df.query('Location != \"Other\"') \\\n",
    "    .groupby(\"Location\")[\"Speed_mph\"] \\\n",
    "    .agg([\"mean\", \"count\"]) \\\n",
    "    .query(\"count >= 10\") \\\n",
    "    .sort_values(\"mean\")[\"mean\"]\n",
    "ax"
   ]
  },
  {
   "cell_type": "code",
   "execution_count": 144,
   "id": "36629c6b",
   "metadata": {},
   "outputs": [
    {
     "data": {
      "image/png": "[encoded data removed]",
      "text/plain": [
       "<Figure size 1200x500 with 1 Axes>"
      ]
     },
     "metadata": {},
     "output_type": "display_data"
    }
   ],
   "source": [
    "ax.plot(kind=\"barh\", figsize=(12, 5), title=\"Average Coaster Speed by Location\", grid=True)\n",
    "plt.show()\n",
    "\n"
   ]
  },
  {
   "cell_type": "code",
   "execution_count": null,
   "id": "519cf740",
   "metadata": {},
   "outputs": [],
   "source": []
  }
 ],
 "metadata": {
  "kernelspec": {
   "display_name": "Python 3 (ipykernel)",
   "language": "python",
   "name": "python3"
  },
  "language_info": {
   "codemirror_mode": {
    "name": "ipython",
    "version": 3
   },
   "file_extension": ".py",
   "mimetype": "text/x-python",
   "name": "python",
   "nbconvert_exporter": "python",
   "pygments_lexer": "ipython3",
   "version": "3.10.9"
  }
 },
 "nbformat": 4,
 "nbformat_minor": 5
}
